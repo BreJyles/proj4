{
 "cells": [
  {
   "cell_type": "code",
   "execution_count": 1,
   "id": "6f5a8dbb-747c-4377-9587-88a5d8e53c63",
   "metadata": {},
   "outputs": [],
   "source": [
    "# Import the required modules\n",
    "import pandas as pd\n",
    "import numpy as np\n",
    "import pickle"
   ]
  },
  {
   "cell_type": "code",
   "execution_count": 2,
   "id": "fcbd3cfe-4246-4315-8e87-3a1740e08a8c",
   "metadata": {},
   "outputs": [],
   "source": [
    "def makePrediction(gender, customer_type, age, travel_type, travel_class, \n",
    "                    distance, wifi, time_convenience, booking, gate, food,\n",
    "                    boarding, comfort, entertainment, onboard_service, legroom, \n",
    "                    baggage, checkin_service, inflight_service, cleanliness, delay_d, delay_a):\n",
    "\n",
    "    df_surv = pd.DataFrame()\n",
    "    df_surv['Inflight wifi service'] = [wifi]\n",
    "    df_surv['Departure/Arrival time convenient'] = [time_convenience]\n",
    "    df_surv['Ease of Online booking'] = [booking]\n",
    "    df_surv['Gate location'] = [gate]\n",
    "    df_surv['Food and drink'] = [food]\n",
    "    df_surv['Online boarding'] = [boarding]\n",
    "    df_surv['Seat comfort'] = [comfort]\n",
    "    df_surv['Inflight entertainment'] = [entertainment]\n",
    "    df_surv['On-board service'] = [onboard_service]\n",
    "    df_surv['Leg room service'] = [legroom]\n",
    "    df_surv['Baggage handling'] = [baggage]\n",
    "    df_surv['Checkin service'] = [checkin_service]\n",
    "    df_surv['Inflight service'] = [inflight_service]\n",
    "    df_surv['Cleanliness'] = [cleanliness]\n",
    "    \n",
    "    df_num = pd.DataFrame()\n",
    "    df_num['Age'] = [age]\n",
    "    df_num['Flight Distance'] = [distance]\n",
    "    df_num['Departure Delay in Minutes'] = [delay_d]\n",
    "    df_num['Arrival Delay in Minutes'] = [delay_a]\n",
    "\n",
    "    scaler = pickle.load(open(\"satisfaction_scaler.h5\", 'rb'))\n",
    "    \n",
    "    scaled_data = scaler.transform(df_num)\n",
    "    df_scaled = pd.DataFrame(scaled_data, columns = ['Age', 'Flight Distance', 'Departure Delay in Minutes', 'Arrival Delay in Minutes'])\n",
    "\n",
    "    df_encoded = pd.DataFrame()\n",
    "    if gender == 'Male':\n",
    "        df_encoded['Gender'] = [0]\n",
    "    else:\n",
    "        df_encoded['Gender'] = [1]\n",
    "\n",
    "    if customer_type == 'disloyal Customer':\n",
    "        df_encoded['Customer Type'] = [0]\n",
    "    else:\n",
    "        df_encoded['Customer Type'] = [1]\n",
    "\n",
    "    if travel_type == 'Business travel':\n",
    "        df_encoded['Type of Travel'] = [0]\n",
    "    else:\n",
    "        df_encoded['Type of Travel'] = [1]\n",
    "\n",
    "    class_b = 0\n",
    "    class_e = 0\n",
    "    class_ep = 0\n",
    "\n",
    "    if travel_class == 'Business':\n",
    "        class_b = 1\n",
    "    elif travel_class == 'Eco':\n",
    "        class_e = 1\n",
    "    else:\n",
    "        class_ep = 1\n",
    "\n",
    "    df_encoded['Class_Business'] = [class_b]\n",
    "    df_encoded['Class_Eco'] = [class_e]\n",
    "    df_encoded['Class_Eco Plus'] = [class_ep]\n",
    "    \n",
    "    df = pd.concat([df_encoded, df_scaled], axis=1)\n",
    "    df = pd.concat([df, df_surv], axis=1)\n",
    "\n",
    "    model = pickle.load(open(\"satisfaction_model.h5\", 'rb'))\n",
    "\n",
    "    preds = model.predict_proba(df)\n",
    "    return(preds[0][1])\n"
   ]
  },
  {
   "cell_type": "code",
   "execution_count": 3,
   "id": "da69af74-560d-4c39-bf42-1aabd4922401",
   "metadata": {},
   "outputs": [
    {
     "data": {
      "text/plain": [
       "0.9894245916580544"
      ]
     },
     "execution_count": 3,
     "metadata": {},
     "output_type": "execute_result"
    }
   ],
   "source": [
    "# Test (Expecting Satisfied)\n",
    "gender = 'Female'\n",
    "customer_type = 'Loyal Customer'\n",
    "age = 52\n",
    "travel_type = 'Business travel'\n",
    "travel_class = 'Eco'\n",
    "distance = 160\n",
    "wifi = 5\n",
    "time_convenience = 4\n",
    "booking = 3\n",
    "gate = 4\n",
    "food = 3\n",
    "boarding = 4\n",
    "comfort = 3\n",
    "entertainment = 5\n",
    "onboard_service = 5\n",
    "legroom = 5\n",
    "baggage = 5\n",
    "checkin_service = 2\n",
    "inflight_service = 5\n",
    "cleanliness = 5\n",
    "delay_d = 50\n",
    "delay_a = 44\n",
    "\n",
    "\n",
    "makePrediction(gender, customer_type, age, travel_type, travel_class, \n",
    "                    distance, wifi, time_convenience, booking, gate, food,\n",
    "                    boarding, comfort, entertainment, onboard_service, legroom, \n",
    "                    baggage, checkin_service, inflight_service, cleanliness, delay_d, delay_a)"
   ]
  },
  {
   "cell_type": "code",
   "execution_count": 4,
   "id": "f917b15f-2233-4eb3-9e44-b42c1d04eb96",
   "metadata": {},
   "outputs": [
    {
     "data": {
      "text/plain": [
       "0.011843079229347192"
      ]
     },
     "execution_count": 4,
     "metadata": {},
     "output_type": "execute_result"
    }
   ],
   "source": [
    "# Test (Expecting Disatisfied)\n",
    "gender = 'Male'\n",
    "customer_type = 'disloyal Customer'\n",
    "age = 20\n",
    "travel_type = 'Business travel'\n",
    "travel_class = 'Eco'\n",
    "distance = 192\n",
    "wifi = 2\n",
    "time_convenience = 0\n",
    "booking = 2\n",
    "gate = 4\n",
    "food = 2\n",
    "boarding = 2\n",
    "comfort = 2\n",
    "entertainment = 2\n",
    "onboard_service = 4\n",
    "legroom = 1\n",
    "baggage = 3\n",
    "checkin_service = 2\n",
    "inflight_service = 2\n",
    "cleanliness = 2\n",
    "delay_d = 0\n",
    "delay_a = 0\n",
    "\n",
    "\n",
    "makePrediction(gender, customer_type, age, travel_type, travel_class, \n",
    "                    distance, wifi, time_convenience, booking, gate, food,\n",
    "                    boarding, comfort, entertainment, onboard_service, legroom, \n",
    "                    baggage, checkin_service, inflight_service, cleanliness, delay_d, delay_a)"
   ]
  },
  {
   "cell_type": "code",
   "execution_count": 5,
   "id": "a100ffa5-c7c2-48f7-a800-7bbd78e9626b",
   "metadata": {},
   "outputs": [
    {
     "data": {
      "text/plain": [
       "0.24173903866262395"
      ]
     },
     "execution_count": 5,
     "metadata": {},
     "output_type": "execute_result"
    }
   ],
   "source": [
    "# Test (Unknown Outcome)\n",
    "gender = 'Female'\n",
    "customer_type = 'Loyal Customer'\n",
    "age = 21\n",
    "travel_type = 'Personal travel'\n",
    "travel_class = 'Eco Plus'\n",
    "distance = 500\n",
    "wifi = 4\n",
    "time_convenience = 5\n",
    "booking = 5\n",
    "gate = 3\n",
    "food = 5\n",
    "boarding = 5\n",
    "comfort = 4\n",
    "entertainment = 5\n",
    "onboard_service = 1\n",
    "legroom = 5\n",
    "baggage = 3\n",
    "checkin_service = 2\n",
    "inflight_service = 5\n",
    "cleanliness = 5\n",
    "delay_d = 35\n",
    "delay_a = 20\n",
    "\n",
    "\n",
    "makePrediction(gender, customer_type, age, travel_type, travel_class, \n",
    "                    distance, wifi, time_convenience, booking, gate, food,\n",
    "                    boarding, comfort, entertainment, onboard_service, legroom, \n",
    "                    baggage, checkin_service, inflight_service, cleanliness, delay_d, delay_a)"
   ]
  },
  {
   "cell_type": "code",
   "execution_count": null,
   "id": "0defd8eb-dbe7-4020-8321-2085e0fec8de",
   "metadata": {},
   "outputs": [],
   "source": []
  }
 ],
 "metadata": {
  "kernelspec": {
   "display_name": "Python 3 (ipykernel)",
   "language": "python",
   "name": "python3"
  },
  "language_info": {
   "codemirror_mode": {
    "name": "ipython",
    "version": 3
   },
   "file_extension": ".py",
   "mimetype": "text/x-python",
   "name": "python",
   "nbconvert_exporter": "python",
   "pygments_lexer": "ipython3",
   "version": "3.10.13"
  }
 },
 "nbformat": 4,
 "nbformat_minor": 5
}
